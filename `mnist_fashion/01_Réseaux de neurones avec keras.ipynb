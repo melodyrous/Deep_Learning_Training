{
 "cells": [
  {
   "cell_type": "markdown",
   "metadata": {},
   "source": [
    "<img src = \"images/3_logos.png\" width = 600, align = \"center\">\n",
    "<br>\n",
    "<h1 align=center>Réseaux de neurones avec Keras</h1>"
   ]
  },
  {
   "cell_type": "markdown",
   "metadata": {},
   "source": [
    "## Imports"
   ]
  },
  {
   "cell_type": "code",
   "execution_count": 1,
   "metadata": {},
   "outputs": [],
   "source": [
    "%matplotlib inline"
   ]
  },
  {
   "cell_type": "code",
   "execution_count": 2,
   "metadata": {},
   "outputs": [],
   "source": [
    "import matplotlib as mpl\n",
    "import matplotlib.pyplot as plt\n",
    "import numpy as np\n",
    "import os\n",
    "import pandas as pd\n",
    "import sklearn\n",
    "import sys\n",
    "import tensorflow as tf\n",
    "from tensorflow import keras\n",
    "import time"
   ]
  },
  {
   "cell_type": "markdown",
   "metadata": {},
   "source": [
    "## Exercice 1 – TensorFlow Playground"
   ]
  },
  {
   "cell_type": "markdown",
   "metadata": {},
   "source": [
    "[TensorFlow Playground](http://playground.tensorflow.org).\n",
    "\n",
    "- **Layers et patterns**: essayez d’entraîner le réseau de neurones par défaut en cliquant sur le bouton \"Exécuter\" (en haut à gauche). Remarquez comment il trouve rapidement une bonne solution pour la tâche de classification. Notez que les neurones de la première couche cachée ont appris des motifs simples, tandis que les neurones de la deuxième couche cachée ont appris à combiner les motifs simples de la première couche cachée en des motifs plus complexes. En général, plus il y a de couches, plus les motifs peuvent être complexes.\n",
    "\n",
    "- **Fonction d'activation**: essayez de remplacer la fonction d'activation Tanh par la fonction d'activation ReLU, puis entraînez à nouveau le réseau. Notez qu'il trouve une solution encore plus rapidement, mais cette fois, les limites sont linéaires. Cela est dû à la forme de la fonction ReLU.\n",
    "\n",
    "- **Minima locaux**: modifiez l’architecture du réseau pour n’avoir qu’une couche cachée avec trois neurones. Entraînez-le plusieurs fois (pour réinitialiser les poids du réseau, ajoutez et supprimez un neurone). Notez que le temps d’entraînement varie beaucoup et que parfois, il s’arrête sur un minimum local.\n",
    "\n",
    "- **Trop petit**: supprimez maintenant un neurone pour ne garder que 2. Notez que le réseau de neurones est maintenant incapable de trouver une bonne solution, même si vous essayez plusieurs fois. Le modèle a trop peu de paramètres et sous-complète systématiquement l'ensemble de formation.\n",
    "\n",
    "- **Assez grand**: ensuite, définissez un nombre de neurones à 8 et entraînez le réseau plusieurs fois. Notez qu'il est maintenant constamment rapide et ne reste jamais bloqué. Cela met en évidence une découverte importante de la théorie des réseaux de neurones: les grands réseaux de neurones ne se coincent presque jamais dans les minima locaux, et même lorsqu'ils le font, ces optima locaux sont presque aussi bons que l'optimum global. Cependant, ils peuvent rester bloqués sur de longs plateaux pendant longtemps.\n",
    "\n",
    "- **Gradients profonds et nuls**: changez maintenant le jeu de données en spirale (jeu de données en bas à droite sous \"DONNEES\"). Changez l'architecture du réseau pour avoir 4 couches cachées de 8 neurones chacune. Notez que l'entraînement prend beaucoup plus de temps et reste souvent bloqué sur des plateaux pendant de longues périodes. Notez également que les neurones situés dans les couches les plus hautes (c’est-à-dire à droite) ont tendance à évoluer plus rapidement que les neurones situés dans les couches les plus basses (c.-à-d. À gauche). Ce problème, appelé le problème des \"gradients disparus\", peut être résolu en utilisant une meilleure initialisation du poids et d'autres techniques, de meilleurs optimiseurs (tels que AdaGrad ou Adam) ou en utilisant la normalisation par lots.\n",
    "\n",
    "- **Ensuite**: jouez pendant au moins une heure quand vous avez le temps !"
   ]
  },
  {
   "cell_type": "markdown",
   "metadata": {},
   "source": [
    "## Exercice 2 – Classification d'images Fashion MNIST"
   ]
  },
  {
   "cell_type": "markdown",
   "metadata": {},
   "source": [
    "Charger le jeu de données fashion MNIST. Keras a un certain nombre de fonctions (dont load_data()) pour charger des jeux de données populaires dans `keras.datasets`. Le jeu de données est déjà divisé en un jeu d'apprentissage et un jeu de tests, mais il peut être utile de fractionner davantage le jeu d'apprentissage pour obtenir un jeu de validation(5000 echantillons):"
   ]
  },
  {
   "cell_type": "code",
   "execution_count": 3,
   "metadata": {},
   "outputs": [],
   "source": [
    "fashion_mnist = keras.datasets.fashion_mnist\n",
    "(X_train_full, y_train_full), (X_test, y_test) = fashion_mnist.load_data()\n",
    "X_valid, X_train = X_train_full[:5000], X_train_full[5000:]\n",
    "y_valid, y_train = y_train_full[:5000], y_train_full[5000:]"
   ]
  },
  {
   "cell_type": "markdown",
   "metadata": {},
   "source": [
    "Afficher la taille du jeu d'entrainement :"
   ]
  },
  {
   "cell_type": "code",
   "execution_count": 4,
   "metadata": {},
   "outputs": [
    {
     "name": "stdout",
     "output_type": "stream",
     "text": [
      "(55000, 28, 28)\n"
     ]
    }
   ],
   "source": [
    "len(X_train)\n",
    "print(X_train.shape)\n",
    "input_shape = X_train.shape"
   ]
  },
  {
   "cell_type": "markdown",
   "metadata": {},
   "source": [
    "Afficher la première ligne"
   ]
  },
  {
   "cell_type": "code",
   "execution_count": 5,
   "metadata": {},
   "outputs": [
    {
     "name": "stdout",
     "output_type": "stream",
     "text": [
      "[[  0   0   0   0   0   0   0   0   0   0   0   0   0   0   0   0   0   0\n",
      "    0   1   0   0   0   0   0   0   0   0]\n",
      " [  0   0   0   0   0   0   0   0   0   0   0  44 127 182 185 161 120  55\n",
      "    0   0   0   0   0   0   0   0   0   0]\n",
      " [  0   0   0   0   0   0   0   0   0  42 198 251 255 251 249 247 255 252\n",
      "  214 100   0   0   0   0   0   0   0   0]\n",
      " [  0   0   0   0   0   0   2   0   0 233 252 237 239 234 237 235 237 237\n",
      "  254 227   0   0   0   0   1   0   0   0]\n",
      " [  0   0   0   0   0   2   0   0  16 210 225 215 175 217 216 193 196 226\n",
      "  221 209  50   0   0   2   0   0   0   0]\n",
      " [  0   0   0   0   2   0   0 199 229 232 230 245 204 219 253 245 207 194\n",
      "  223 231 236 235   0   0   3   0   0   0]\n",
      " [  0   0   0   0   1   0 137 235 204 209 201 209 234 190 234 218 215 238\n",
      "  239 204 189 224 154   0   0   0   0   0]\n",
      " [  0   0   0   0   0   0 194 201 200 209 202 193 205 194 183 218 231 197\n",
      "  172 181 193 205 199   0   0   0   0   0]\n",
      " [  0   0   0   0   0   3 212 203 188 189 196 198 198 201 196 217 179 167\n",
      "  183 217 197 202 219  30   0   0   0   0]\n",
      " [  0   0   0   0   0  34 225 200 194 190 188 192 196 192 170 202 190 201\n",
      "  195 200 201 209 227  50   0   0   0   0]\n",
      " [  0   0   0   0   0  68 225 210 211 198 192 196 204 196 181 212 197 195\n",
      "  192 206 220 210 229  93   0   0   0   0]\n",
      " [  0   0   0   0   0 111 223 227 253 209 196 204 211 206 183 216 206 210\n",
      "  203 215 244 224 227 150   0   0   0   0]\n",
      " [  0   0   0   0   0 139 225 224 255 202 206 212 209 211 190 213 202 207\n",
      "  206 222 255 230 220 190   0   0   0   0]\n",
      " [  0   0   0   0   0 180 226 224 255 199 204 207 214 214 190 216 206 203\n",
      "  205 219 243 224 214 234   0   0   0   0]\n",
      " [  0   0   0   0   0 225 223 228 254 209 206 208 213 210 191 215 207 204\n",
      "  208 211 249 226 214 255  38   0   0   0]\n",
      " [  0   0   0   0   0 250 232 240 239 211 203 209 205 211 197 215 208 208\n",
      "  214 213 239 231 219 255  81   0   0   0]\n",
      " [  0   0   0   0   0 248 236 247 240 203 200 208 206 214 193 213 212 208\n",
      "  212 211 243 242 225 254  66   0   0   0]\n",
      " [  0   0   0   0   0 247 230 252 226 199 211 202 211 213 182 213 212 206\n",
      "  202 219 207 247 222 237 104   0   0   0]\n",
      " [  0   0   0   0  10 244 219 250 205 199 209 202 209 211 189 214 206 210\n",
      "  200 212 154 240 208 219 140   0   0   0]\n",
      " [  0   0   0   0  21 255 222 238 184 210 192 206 209 210 189 213 211 209\n",
      "  192 228 155 226 238 241 166   0   0   0]\n",
      " [  0   0   0   0  37 245 226 241 150 197 189 204 209 210 183 213 213 201\n",
      "  184 215 146 216 236 225 154   0   0   0]\n",
      " [  0   0   0   0  58 239 227 255 158 193 195 204 209 213 180 207 217 199\n",
      "  194 211 158 219 236 216 151   0   0   0]\n",
      " [  0   0   0   0  68 233 226 243 139 200 193 205 210 208 180 205 212 203\n",
      "  196 216 157 179 255 216 155   0   0   0]\n",
      " [  0   0   0   0  81 225 224 211 138 219 185 201 213 207 197 226 212 200\n",
      "  190 215 183  90 255 211 147   0   0   0]\n",
      " [  0   0   0   0  91 210 230 158 114 205 187 208 209 206 193 210 211 204\n",
      "  195 204 181  23 255 213 158   0   0   0]\n",
      " [  0   0   0   0  87 205 232 109 164 255 214 224 222 210 197 214 225 222\n",
      "  211 220 217   0 234 216 169   0   0   0]\n",
      " [  0   0   0   0  92 213 232 146   5 134 151 162 170 183 182 164 166 178\n",
      "  162 156  98   0 240 225 210   0   0   0]\n",
      " [  0   0   0   0  43 164 206 141   0   0   0   0   0   0   0   0   0   0\n",
      "    0   0   0   0 127 125  76   0   0   0]]\n",
      "4\n"
     ]
    }
   ],
   "source": [
    "print(X_train[0])\n",
    "print(y_train[0])"
   ]
  },
  {
   "cell_type": "markdown",
   "metadata": {},
   "source": [
    "Afficher l'echantilon en utilisant la fonction `imshow()` avec un color map en `'binary'`"
   ]
  },
  {
   "cell_type": "code",
   "execution_count": 6,
   "metadata": {},
   "outputs": [
    {
     "data": {
      "image/png": "[encoded data removed]",
      "text/plain": [
       "<Figure size 432x288 with 1 Axes>"
      ]
     },
     "metadata": {
      "needs_background": "light"
     },
     "output_type": "display_data"
    }
   ],
   "source": [
    "plt.imshow(X_train[0], cmap='binary')\n",
    "plt.show()\n",
    "plt.close()"
   ]
  },
  {
   "cell_type": "markdown",
   "metadata": {},
   "source": [
    "Afficher les différentes valeurs des labels"
   ]
  },
  {
   "cell_type": "code",
   "execution_count": 7,
   "metadata": {},
   "outputs": [
    {
     "data": {
      "text/plain": [
       "array([4, 0, 7, ..., 3, 0, 5], dtype=uint8)"
      ]
     },
     "execution_count": 7,
     "metadata": {},
     "output_type": "execute_result"
    }
   ],
   "source": [
    "y_train"
   ]
  },
  {
   "cell_type": "markdown",
   "metadata": {},
   "source": [
    "Noms des classes :"
   ]
  },
  {
   "cell_type": "code",
   "execution_count": 8,
   "metadata": {},
   "outputs": [],
   "source": [
    "class_names = [\"T-shirt/top\", \"Trouser\", \"Pullover\", \"Dress\", \"Coat\",\n",
    "               \"Sandal\", \"Shirt\", \"Sneaker\", \"Bag\", \"Ankle boot\"]"
   ]
  },
  {
   "cell_type": "markdown",
   "metadata": {},
   "source": [
    "La première image correspond donc à un coat :"
   ]
  },
  {
   "cell_type": "code",
   "execution_count": 9,
   "metadata": {},
   "outputs": [
    {
     "data": {
      "text/plain": [
       "'Coat'"
      ]
     },
     "execution_count": 9,
     "metadata": {},
     "output_type": "execute_result"
    }
   ],
   "source": [
    "class_names[y_train[0]]"
   ]
  },
  {
   "cell_type": "markdown",
   "metadata": {},
   "source": [
    "Afficher les 50 premières images (utiliser des subplots en adaptant la taille de la figure)"
   ]
  },
  {
   "cell_type": "code",
   "execution_count": 10,
   "metadata": {},
   "outputs": [
    {
     "data": {
      "image/png": "[encoded data removed]",
      "text/plain": [
       "<Figure size 1800x1800 with 50 Axes>"
      ]
     },
     "metadata": {
      "needs_background": "light"
     },
     "output_type": "display_data"
    }
   ],
   "source": [
    "N = 50\n",
    "plt.figure(figsize=(25,25))\n",
    "for i in range(0,N):\n",
    "    plt.subplot(10,N/5,i+1)\n",
    "    plt.imshow(X_train[i], cmap='binary')\n",
    "plt.show()\n",
    "    "
   ]
  },
  {
   "cell_type": "markdown",
   "metadata": {},
   "source": [
    "### Construction d'un réseau de neurones de classification avec Keras"
   ]
  },
  {
   "cell_type": "markdown",
   "metadata": {},
   "source": [
    "### 2.1)\n",
    "Construire un modèle séquentiel (keras.models.Sequential),(voir [doc](https://keras.io/models/about-keras-models/) ), sans aucun argument, puis ajoutez-y quatre couches en utilisant la méthode add ():\n",
    " - une couche Flatten (keras.layers.Flatten) pour convertir chaque image 28x28 en une rangée unique de 784 pixels. Comme il s'agit de la première couche du modèle, il faut spécifier l'argument input_shape en laissant de côté la taille du lot: [28, 28].\n",
    "- une couche dense (keras.layers.Dense) avec 300 neurones (unités aka) et la fonction d'activation \"relu\".\n",
    "- Une autre couche dense avec 100 neurones, également avec la fonction d'activation \"relu\".\n",
    "- Une couche dense finale avec 10 neurones (un par classe) et la fonction d'activation \"softmax\" garantissant que la somme de toutes les probabilités de classe estimées pour chaque image est égale à 1."
   ]
  },
  {
   "cell_type": "code",
   "execution_count": 11,
   "metadata": {},
   "outputs": [
    {
     "name": "stderr",
     "output_type": "stream",
     "text": [
      "Using TensorFlow backend.\n"
     ]
    }
   ],
   "source": [
    "from keras.models import Sequential\n",
    "from keras.layers import Dense, Activation, Flatten"
   ]
  },
  {
   "cell_type": "code",
   "execution_count": 12,
   "metadata": {},
   "outputs": [],
   "source": [
    "model = Sequential()"
   ]
  },
  {
   "cell_type": "code",
   "execution_count": 13,
   "metadata": {},
   "outputs": [],
   "source": [
    "model.add(Flatten(input_shape=[28,28]))\n",
    "model.add(Dense(300,activation='relu'))\n",
    "model.add(Dense(100,activation='relu'))\n",
    "model.add(Dense(10,activation='softmax'))"
   ]
  },
  {
   "cell_type": "code",
   "execution_count": null,
   "metadata": {},
   "outputs": [],
   "source": []
  },
  {
   "cell_type": "markdown",
   "metadata": {},
   "source": [
    "### 2.2)\n",
    "Utiliser la méthode `summary()` pour étudier l'output."
   ]
  },
  {
   "cell_type": "code",
   "execution_count": 14,
   "metadata": {},
   "outputs": [
    {
     "name": "stdout",
     "output_type": "stream",
     "text": [
      "_________________________________________________________________\n",
      "Layer (type)                 Output Shape              Param #   \n",
      "=================================================================\n",
      "flatten_1 (Flatten)          (None, 784)               0         \n",
      "_________________________________________________________________\n",
      "dense_1 (Dense)              (None, 300)               235500    \n",
      "_________________________________________________________________\n",
      "dense_2 (Dense)              (None, 100)               30100     \n",
      "_________________________________________________________________\n",
      "dense_3 (Dense)              (None, 10)                1010      \n",
      "=================================================================\n",
      "Total params: 266,610\n",
      "Trainable params: 266,610\n",
      "Non-trainable params: 0\n",
      "_________________________________________________________________\n",
      "None\n"
     ]
    }
   ],
   "source": [
    "print(model.summary())"
   ]
  },
  {
   "cell_type": "markdown",
   "metadata": {},
   "source": [
    "### 2.3) Compilation\n",
    "Une fois le modèle créé, il faut utiliser la méthode `compile ()` pour spécifier la fonction `loss` et l'` optimiseur` à utiliser. On utilisera \"sparse_categorical_crossentropy\" pour le loss et l'optimiseur \"sgd\" (descente de gradient stochastique), spécifier également `metrics` à `accuracy`"
   ]
  },
  {
   "cell_type": "code",
   "execution_count": 15,
   "metadata": {},
   "outputs": [],
   "source": [
    "model.compile(loss='sparse_categorical_crossentropy',optimizer='sgd',metrics=['accuracy'])"
   ]
  },
  {
   "cell_type": "code",
   "execution_count": 16,
   "metadata": {},
   "outputs": [],
   "source": [
    "#print(model.summary())"
   ]
  },
  {
   "cell_type": "code",
   "execution_count": null,
   "metadata": {},
   "outputs": [],
   "source": []
  },
  {
   "cell_type": "markdown",
   "metadata": {},
   "source": [
    "### 2.4)\n",
    "Entrainer le modèle en utilisant la méthode `fit()`<br/>\n",
    "**Remarque**: la méthode `fit ()`retourne un objet `History`contenant des statistiques d'entraînement. Il peut être utile de conserver le résultat dans une variable : (history = model.fit (...))."
   ]
  },
  {
   "cell_type": "code",
   "execution_count": 17,
   "metadata": {},
   "outputs": [
    {
     "name": "stdout",
     "output_type": "stream",
     "text": [
      "Epoch 1/1\n",
      "55000/55000 [==============================] - 6s 116us/step - loss: 14.5072 - acc: 0.0999\n"
     ]
    }
   ],
   "source": [
    "history = model.fit(X_train, y_train)"
   ]
  },
  {
   "cell_type": "code",
   "execution_count": 18,
   "metadata": {},
   "outputs": [
    {
     "name": "stdout",
     "output_type": "stream",
     "text": [
      "_________________________________________________________________\n",
      "Layer (type)                 Output Shape              Param #   \n",
      "=================================================================\n",
      "flatten_1 (Flatten)          (None, 784)               0         \n",
      "_________________________________________________________________\n",
      "dense_1 (Dense)              (None, 300)               235500    \n",
      "_________________________________________________________________\n",
      "dense_2 (Dense)              (None, 100)               30100     \n",
      "_________________________________________________________________\n",
      "dense_3 (Dense)              (None, 10)                1010      \n",
      "=================================================================\n",
      "Total params: 266,610\n",
      "Trainable params: 266,610\n",
      "Non-trainable params: 0\n",
      "_________________________________________________________________\n"
     ]
    }
   ],
   "source": [
    "model.summary()"
   ]
  },
  {
   "cell_type": "code",
   "execution_count": 19,
   "metadata": {},
   "outputs": [
    {
     "name": "stdout",
     "output_type": "stream",
     "text": [
      "Epoch 1/3\n",
      "3/3 [==============================] - 2s 574ms/step - loss: 14.5082 - acc: 0.1000\n",
      "Epoch 2/3\n",
      "3/3 [==============================] - 2s 554ms/step - loss: 14.5082 - acc: 0.1000\n",
      "Epoch 3/3\n",
      "3/3 [==============================] - 2s 539ms/step - loss: 14.5082 - acc: 0.1000\n"
     ]
    }
   ],
   "source": [
    "history2 = model.fit(X_train, y_train, epochs=3, steps_per_epoch=3)"
   ]
  },
  {
   "cell_type": "markdown",
   "metadata": {},
   "source": [
    "### 2.5)\n",
    "Construire un dataframe avec l'objet history puis en faire une représenatation graphique (méthode plot())<br>\n",
    "*Conseils* : \n",
    "- Afficher la grille et limiter les ordonnées à l'intervalle \\[0, 1\\]\n",
    "- Il peut être utile de créer une fonction."
   ]
  },
  {
   "cell_type": "code",
   "execution_count": 20,
   "metadata": {},
   "outputs": [
    {
     "data": {
      "image/png": "[encoded data removed]",
      "text/plain": [
       "<Figure size 432x288 with 1 Axes>"
      ]
     },
     "metadata": {
      "needs_background": "light"
     },
     "output_type": "display_data"
    },
    {
     "data": {
      "text/html": [
       "<div>\n",
       "<style scoped>\n",
       "    .dataframe tbody tr th:only-of-type {\n",
       "        vertical-align: middle;\n",
       "    }\n",
       "\n",
       "    .dataframe tbody tr th {\n",
       "        vertical-align: top;\n",
       "    }\n",
       "\n",
       "    .dataframe thead th {\n",
       "        text-align: right;\n",
       "    }\n",
       "</style>\n",
       "<table border=\"1\" class=\"dataframe\">\n",
       "  <thead>\n",
       "    <tr style=\"text-align: right;\">\n",
       "      <th></th>\n",
       "      <th>loss</th>\n",
       "      <th>acc</th>\n",
       "    </tr>\n",
       "  </thead>\n",
       "  <tbody>\n",
       "    <tr>\n",
       "      <th>0</th>\n",
       "      <td>14.508245</td>\n",
       "      <td>0.099982</td>\n",
       "    </tr>\n",
       "    <tr>\n",
       "      <th>1</th>\n",
       "      <td>14.508245</td>\n",
       "      <td>0.099982</td>\n",
       "    </tr>\n",
       "    <tr>\n",
       "      <th>2</th>\n",
       "      <td>14.508245</td>\n",
       "      <td>0.099982</td>\n",
       "    </tr>\n",
       "  </tbody>\n",
       "</table>\n",
       "</div>"
      ],
      "text/plain": [
       "        loss       acc\n",
       "0  14.508245  0.099982\n",
       "1  14.508245  0.099982\n",
       "2  14.508245  0.099982"
      ]
     },
     "execution_count": 20,
     "metadata": {},
     "output_type": "execute_result"
    }
   ],
   "source": [
    "hist=pd.DataFrame(history2.history)\n",
    "hist.plot()\n",
    "plt.show()\n",
    "hist"
   ]
  },
  {
   "cell_type": "markdown",
   "metadata": {},
   "source": [
    "### 2.6)\n",
    "Relancer `model.fit()` , et remarquer qu'il reprend là où il s'était arrété."
   ]
  },
  {
   "cell_type": "code",
   "execution_count": null,
   "metadata": {},
   "outputs": [],
   "source": []
  },
  {
   "cell_type": "markdown",
   "metadata": {},
   "source": [
    "### 2.7)\n",
    "Evaluer le modèle avec la méthode `evaluate()`(as-t-on précision autour de 80% ?)"
   ]
  },
  {
   "cell_type": "code",
   "execution_count": 21,
   "metadata": {},
   "outputs": [
    {
     "name": "stdout",
     "output_type": "stream",
     "text": [
      "10000/10000 [==============================] - 0s 42us/step\n"
     ]
    }
   ],
   "source": [
    "score = model.evaluate(X_test, y_test, batch_size=32)"
   ]
  },
  {
   "cell_type": "code",
   "execution_count": 22,
   "metadata": {},
   "outputs": [
    {
     "data": {
      "text/plain": [
       "[14.50628703918457, 0.1]"
      ]
     },
     "execution_count": 22,
     "metadata": {},
     "output_type": "execute_result"
    }
   ],
   "source": [
    "score"
   ]
  },
  {
   "cell_type": "code",
   "execution_count": 23,
   "metadata": {},
   "outputs": [],
   "source": [
    "#Non"
   ]
  },
  {
   "cell_type": "markdown",
   "metadata": {},
   "source": [
    "### 2.8) Prédiction\n",
    "Définir X_new par les 10 premières instances du jeu de tests. Utiliser la méthode de prédict() du modèle pour estimer la probabilité de chaque classe pour chaque instance (arrondir les résultats au 100ème):"
   ]
  },
  {
   "cell_type": "code",
   "execution_count": 24,
   "metadata": {},
   "outputs": [
    {
     "name": "stdout",
     "output_type": "stream",
     "text": [
      "\r",
      "10/10 [==============================] - 0s 3ms/step\n"
     ]
    },
    {
     "data": {
      "text/plain": [
       "array([[0., 0., 0., 1., 0., 0., 0., 0., 0., 0.],\n",
       "       [0., 0., 0., 1., 0., 0., 0., 0., 0., 0.],\n",
       "       [0., 0., 0., 1., 0., 0., 0., 0., 0., 0.],\n",
       "       [0., 0., 0., 1., 0., 0., 0., 0., 0., 0.],\n",
       "       [0., 0., 0., 1., 0., 0., 0., 0., 0., 0.],\n",
       "       [0., 0., 0., 1., 0., 0., 0., 0., 0., 0.],\n",
       "       [0., 0., 0., 1., 0., 0., 0., 0., 0., 0.],\n",
       "       [0., 0., 0., 1., 0., 0., 0., 0., 0., 0.],\n",
       "       [0., 0., 0., 1., 0., 0., 0., 0., 0., 0.],\n",
       "       [0., 0., 0., 1., 0., 0., 0., 0., 0., 0.]], dtype=float32)"
      ]
     },
     "execution_count": 24,
     "metadata": {},
     "output_type": "execute_result"
    }
   ],
   "source": [
    "X_new = X_test[:10]\n",
    "result = model.predict(X_new, verbose=1)\n",
    "result"
   ]
  },
  {
   "cell_type": "markdown",
   "metadata": {},
   "source": [
    "### 2.9)\n",
    "Utilisez `np.argmax ()`pour obtenir l'ID de classe de la classe la plus probable pour chaque instance. *Utiliser 'axis=1'*"
   ]
  },
  {
   "cell_type": "code",
   "execution_count": 25,
   "metadata": {},
   "outputs": [
    {
     "name": "stdout",
     "output_type": "stream",
     "text": [
      "[3, 3, 3, 3, 3, 3, 3, 3, 3, 3]\n"
     ]
    }
   ],
   "source": [
    "print([arg for arg in np.argmax(result, axis=1)])"
   ]
  },
  {
   "cell_type": "markdown",
   "metadata": {},
   "source": [
    "### 2.10) méthode predict_classes\n",
    "\n",
    "Utiliser la méthode `predict_classes()` pour `X_new`. On devrait obtenir les mêmes résultats."
   ]
  },
  {
   "cell_type": "code",
   "execution_count": 26,
   "metadata": {},
   "outputs": [],
   "source": [
    "res = model.predict_classes(X_new)"
   ]
  },
  {
   "cell_type": "markdown",
   "metadata": {},
   "source": [
    "### 2.11)\n",
    "Utiliser `np.max()`pour déterminer une estimation de la probabilité associée à chaque classe."
   ]
  },
  {
   "cell_type": "code",
   "execution_count": 27,
   "metadata": {},
   "outputs": [
    {
     "data": {
      "text/plain": [
       "array([1., 1., 1., 1., 1., 1., 1., 1., 1., 1.], dtype=float32)"
      ]
     },
     "execution_count": 27,
     "metadata": {},
     "output_type": "execute_result"
    }
   ],
   "source": [
    "np.max(result ,axis=1)"
   ]
  },
  {
   "cell_type": "markdown",
   "metadata": {},
   "source": [
    "## Exercice 3 – Normalisation"
   ]
  },
  {
   "cell_type": "markdown",
   "metadata": {},
   "source": [
    "### 3.1)\n",
    "Pour l'utilisation de la descente de gradient, il est généralement préférable de s'assurer que les entités soient mises à l'échelle, de préférence avec une distribution normale. Uniformiser les valeurs des pixels et tester les performances du réseau.\n",
    "\n",
    "- *Utiliser `StandardScaler`de Scikit-Learn.\n",
    "- *Relancer la méthode fit()"
   ]
  },
  {
   "cell_type": "code",
   "execution_count": 28,
   "metadata": {},
   "outputs": [],
   "source": [
    "from sklearn.preprocessing import StandardScaler\n",
    "scaler = StandardScaler()\n"
   ]
  },
  {
   "cell_type": "code",
   "execution_count": 29,
   "metadata": {},
   "outputs": [],
   "source": [
    "\n",
    "#scaler.fit(X_train.flatten())\n",
    "\n",
    "#scaler.fit(y_train)\n",
    "#np.squeeze(X_train).shape\n",
    "X_2d = np.ndarray((55000,784))\n",
    "for x in range(55000):\n",
    "    X_2d[x]=(X_train[x].flatten())\n",
    "\n",
    "\n"
   ]
  },
  {
   "cell_type": "code",
   "execution_count": 30,
   "metadata": {},
   "outputs": [
    {
     "name": "stdout",
     "output_type": "stream",
     "text": [
      "55000\n"
     ]
    },
    {
     "data": {
      "text/plain": [
       "(55000, 784)"
      ]
     },
     "execution_count": 30,
     "metadata": {},
     "output_type": "execute_result"
    }
   ],
   "source": [
    "scaler.fit(X_2d)\n",
    "#scaler.fit([y_train])\n",
    "print(len(X_2d))\n",
    "X_s_2d = scaler.transform(X_2d)\n",
    "X_s_2d.shape"
   ]
  },
  {
   "cell_type": "code",
   "execution_count": 31,
   "metadata": {},
   "outputs": [
    {
     "name": "stdout",
     "output_type": "stream",
     "text": [
      "(55000, 784)\n"
     ]
    }
   ],
   "source": [
    "print(X_s_2d.shape)"
   ]
  },
  {
   "cell_type": "code",
   "execution_count": 32,
   "metadata": {},
   "outputs": [],
   "source": [
    "# Comparaison des différentes normalisation du jeu de données\n"
   ]
  },
  {
   "cell_type": "markdown",
   "metadata": {},
   "source": [
    "### 3.2)\n",
    "Tracer les courbes d'apprentissage et comparer avec celles obtenues dans la première partie."
   ]
  },
  {
   "cell_type": "code",
   "execution_count": 33,
   "metadata": {},
   "outputs": [],
   "source": [
    "model_s = Sequential()\n",
    "model_s.add(Dense(300,activation='relu',input_shape=(784,)))\n",
    "model_s.add(Dense(100,activation='relu'))\n",
    "model_s.add(Dense(10,activation='softmax'))\n",
    "model_s.compile(loss='sparse_categorical_crossentropy',optimizer='sgd',metrics=['accuracy'])"
   ]
  },
  {
   "cell_type": "code",
   "execution_count": 34,
   "metadata": {},
   "outputs": [
    {
     "name": "stdout",
     "output_type": "stream",
     "text": [
      "Epoch 1/3\n",
      "55000/55000 [==============================] - 6s 106us/step - loss: 0.5277 - acc: 0.8158\n",
      "Epoch 2/3\n",
      "55000/55000 [==============================] - 6s 101us/step - loss: 0.3701 - acc: 0.8662\n",
      "Epoch 3/3\n",
      "55000/55000 [==============================] - 6s 103us/step - loss: 0.3298 - acc: 0.8813\n"
     ]
    }
   ],
   "source": [
    "history_s = model_s.fit(X_s_2d, y_train, verbose=1, epochs=3)"
   ]
  },
  {
   "cell_type": "code",
   "execution_count": 35,
   "metadata": {},
   "outputs": [
    {
     "data": {
      "image/png": "[encoded data removed]",
      "text/plain": [
       "<Figure size 432x288 with 1 Axes>"
      ]
     },
     "metadata": {
      "needs_background": "light"
     },
     "output_type": "display_data"
    }
   ],
   "source": [
    "h= pd.DataFrame(history_s.history)\n",
    "h.acc.plot()\n",
    "\n",
    "plt.show()"
   ]
  },
  {
   "cell_type": "markdown",
   "metadata": {},
   "source": [
    "## Exercice 4 – Les Callbacks"
   ]
  },
  {
   "cell_type": "markdown",
   "metadata": {},
   "source": [
    "### 4.1)\n",
    "La méthode `fit()` accepte un argument `callbacks`. Entrainer le modèle avec un grand nombre de `epoch` en y ajoutant les *callbacks* suvants (les callback proviennent de la librairie `keras.callbacks` et sont définis dans un tableau :\n",
    "* `EarlyStopping`: avec `patience=5` pour arrêter l'apprentissage dès que le modèle ne change plus (5 epoch de marge)\n",
    "* `ModelCheckpoint`: specifie le nom du modèle à enregistrer (exemple `\"mnist_fashion.h5\"`) avec `save_best_only=True` pour enregistrer le meilleur modèle obtenu.\n",
    "\n",
    "callbacks=\\[keras.callbacks.EarlyStopping......,\n",
    "    keras.callbacks........\\]<br/>\n",
    "history = model.fit(............,\n",
    "                    callbacks=callbacks)\n",
    "\n",
    "Le callback `EarlyStopping` permettra de réduire les risques de sur-apprentissage."
   ]
  },
  {
   "cell_type": "code",
   "execution_count": 36,
   "metadata": {},
   "outputs": [
    {
     "data": {
      "text/plain": [
       "5000"
      ]
     },
     "execution_count": 36,
     "metadata": {},
     "output_type": "execute_result"
    }
   ],
   "source": [
    "len(X_valid)"
   ]
  },
  {
   "cell_type": "code",
   "execution_count": 37,
   "metadata": {},
   "outputs": [],
   "source": [
    "# Normalisation des donnees de validation\n",
    "d2 = np.ndarray(shape=(len(X_valid),784))\n",
    "for d in range(len(X_valid)):\n",
    "    d2[i]=X_valid[i].flatten()\n",
    "X_valid_s = scaler.transform(d2)"
   ]
  },
  {
   "cell_type": "code",
   "execution_count": 38,
   "metadata": {},
   "outputs": [
    {
     "name": "stdout",
     "output_type": "stream",
     "text": [
      "Train on 55000 samples, validate on 5000 samples\n",
      "Epoch 1/30\n",
      "55000/55000 [==============================] - 6s 106us/step - loss: 0.3024 - acc: 0.8912 - val_loss: 3.2208 - val_acc: 0.0988\n",
      "\n",
      "Epoch 00001: val_acc improved from -inf to 0.09880, saving model to weights.01-0.89.hdf5\n",
      "Epoch 2/30\n",
      "55000/55000 [==============================] - 6s 105us/step - loss: 0.2806 - acc: 0.8989 - val_loss: 3.6393 - val_acc: 0.0988\n",
      "\n",
      "Epoch 00002: val_acc did not improve from 0.09880\n",
      "Epoch 3/30\n",
      "55000/55000 [==============================] - 6s 105us/step - loss: 0.2637 - acc: 0.9048 - val_loss: 3.2868 - val_acc: 0.0988\n",
      "\n",
      "Epoch 00003: val_acc did not improve from 0.09880\n",
      "Epoch 4/30\n",
      "55000/55000 [==============================] - 6s 105us/step - loss: 0.2470 - acc: 0.9100 - val_loss: 3.5873 - val_acc: 0.0988\n",
      "\n",
      "Epoch 00004: val_acc did not improve from 0.09880\n",
      "Epoch 5/30\n",
      "55000/55000 [==============================] - 6s 105us/step - loss: 0.2342 - acc: 0.9157 - val_loss: 3.1708 - val_acc: 0.0988\n",
      "\n",
      "Epoch 00005: val_acc did not improve from 0.09880\n",
      "Epoch 6/30\n",
      "55000/55000 [==============================] - 6s 105us/step - loss: 0.2206 - acc: 0.9205 - val_loss: 3.8166 - val_acc: 0.0988\n",
      "\n",
      "Epoch 00006: val_acc did not improve from 0.09880\n",
      "Epoch 00006: early stopping\n"
     ]
    },
    {
     "data": {
      "text/plain": [
       "<keras.callbacks.History at 0x2ac14b00da0>"
      ]
     },
     "execution_count": 38,
     "metadata": {},
     "output_type": "execute_result"
    }
   ],
   "source": [
    "from keras.callbacks import EarlyStopping,ModelCheckpoint\n",
    "model_s.fit(X_s_2d,\n",
    "            y_train,\n",
    "            verbose=1,\n",
    "            epochs=30,\n",
    "            callbacks=[\n",
    "                EarlyStopping(\n",
    "                    monitor='val_acc',\n",
    "                    patience=5,\n",
    "                    verbose=1,\n",
    "                    mode='auto'),\n",
    "                ModelCheckpoint('weights.{epoch:02d}-{acc:.2f}.hdf5',\n",
    "                    monitor='val_acc',\n",
    "                    verbose=1,\n",
    "                    save_best_only=True,\n",
    "                    save_weights_only=False,\n",
    "                    mode='auto')],\n",
    "           validation_data=(X_valid_s,y_valid),\n",
    "           shuffle=True)"
   ]
  },
  {
   "cell_type": "code",
   "execution_count": null,
   "metadata": {},
   "outputs": [],
   "source": []
  },
  {
   "cell_type": "code",
   "execution_count": null,
   "metadata": {},
   "outputs": [],
   "source": []
  },
  {
   "cell_type": "markdown",
   "metadata": {},
   "source": [
    "### 4.2)\n",
    "\n",
    "Grâce aux callbacks, le dernier modèle enregistré est le meilleur sur le jeu de validation.<br>\n",
    "Charger le modèle avec 'keras. Models. load_model () et l'évaluer sur l'ensemble de test."
   ]
  },
  {
   "cell_type": "code",
   "execution_count": 39,
   "metadata": {},
   "outputs": [],
   "source": [
    "m=keras.models.load_model('weights.06-0.90.hdf5')"
   ]
  },
  {
   "cell_type": "code",
   "execution_count": 40,
   "metadata": {},
   "outputs": [],
   "source": [
    "# Normalisation des donnees de test\n",
    "d2 = np.ndarray((len(X_test),784))\n",
    "for i in range(len(X_test)):\n",
    "    d2[i]=X_test[i].flatten()\n",
    "X_test_s = scaler.transform(d2)"
   ]
  },
  {
   "cell_type": "code",
   "execution_count": 41,
   "metadata": {},
   "outputs": [
    {
     "name": "stdout",
     "output_type": "stream",
     "text": [
      "10000/10000 [==============================] - 0s 45us/step\n"
     ]
    }
   ],
   "source": [
    "s =m.evaluate(X_test_s, y_test)"
   ]
  },
  {
   "cell_type": "code",
   "execution_count": 42,
   "metadata": {},
   "outputs": [
    {
     "data": {
      "text/plain": [
       "[0.3696963671684265, 0.8665]"
      ]
     },
     "execution_count": 42,
     "metadata": {},
     "output_type": "execute_result"
    }
   ],
   "source": [
    "s"
   ]
  },
  {
   "cell_type": "markdown",
   "metadata": {},
   "source": [
    "Une liste de callbacks est disponible sur https://keras.io/callbacks/"
   ]
  }
 ],
 "metadata": {
  "kernelspec": {
   "display_name": "Python 3",
   "language": "python",
   "name": "python3"
  },
  "language_info": {
   "codemirror_mode": {
    "name": "ipython",
    "version": 3
   },
   "file_extension": ".py",
   "mimetype": "text/x-python",
   "name": "python",
   "nbconvert_exporter": "python",
   "pygments_lexer": "ipython3",
   "version": "3.6.7"
  }
 },
 "nbformat": 4,
 "nbformat_minor": 2
}
